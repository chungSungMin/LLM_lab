{
 "cells": [
  {
   "cell_type": "code",
   "execution_count": 1,
   "id": "2297bbc5",
   "metadata": {},
   "outputs": [
    {
     "name": "stdout",
     "output_type": "stream",
     "text": [
      "Requirement already satisfied: langchain_community in /venv/main/lib/python3.12/site-packages (0.3.27)\n",
      "Collecting beautifulsoup4\n",
      "  Downloading beautifulsoup4-4.13.4-py3-none-any.whl.metadata (3.8 kB)\n",
      "Requirement already satisfied: langchain-core<1.0.0,>=0.3.66 in /venv/main/lib/python3.12/site-packages (from langchain_community) (0.3.74)\n",
      "Requirement already satisfied: langchain<1.0.0,>=0.3.26 in /venv/main/lib/python3.12/site-packages (from langchain_community) (0.3.27)\n",
      "Requirement already satisfied: SQLAlchemy<3,>=1.4 in /venv/main/lib/python3.12/site-packages (from langchain_community) (2.0.42)\n",
      "Requirement already satisfied: requests<3,>=2 in /venv/main/lib/python3.12/site-packages (from langchain_community) (2.32.4)\n",
      "Requirement already satisfied: PyYAML>=5.3 in /venv/main/lib/python3.12/site-packages (from langchain_community) (6.0.2)\n",
      "Requirement already satisfied: aiohttp<4.0.0,>=3.8.3 in /venv/main/lib/python3.12/site-packages (from langchain_community) (3.12.15)\n",
      "Requirement already satisfied: tenacity!=8.4.0,<10,>=8.1.0 in /venv/main/lib/python3.12/site-packages (from langchain_community) (9.1.2)\n",
      "Requirement already satisfied: dataclasses-json<0.7,>=0.5.7 in /venv/main/lib/python3.12/site-packages (from langchain_community) (0.6.7)\n",
      "Requirement already satisfied: pydantic-settings<3.0.0,>=2.4.0 in /venv/main/lib/python3.12/site-packages (from langchain_community) (2.10.1)\n",
      "Requirement already satisfied: langsmith>=0.1.125 in /venv/main/lib/python3.12/site-packages (from langchain_community) (0.4.13)\n",
      "Requirement already satisfied: httpx-sse<1.0.0,>=0.4.0 in /venv/main/lib/python3.12/site-packages (from langchain_community) (0.4.1)\n",
      "Requirement already satisfied: numpy>=1.26.2 in /venv/main/lib/python3.12/site-packages (from langchain_community) (1.26.4)\n",
      "Requirement already satisfied: aiohappyeyeballs>=2.5.0 in /venv/main/lib/python3.12/site-packages (from aiohttp<4.0.0,>=3.8.3->langchain_community) (2.6.1)\n",
      "Requirement already satisfied: aiosignal>=1.4.0 in /venv/main/lib/python3.12/site-packages (from aiohttp<4.0.0,>=3.8.3->langchain_community) (1.4.0)\n",
      "Requirement already satisfied: attrs>=17.3.0 in /venv/main/lib/python3.12/site-packages (from aiohttp<4.0.0,>=3.8.3->langchain_community) (25.3.0)\n",
      "Requirement already satisfied: frozenlist>=1.1.1 in /venv/main/lib/python3.12/site-packages (from aiohttp<4.0.0,>=3.8.3->langchain_community) (1.7.0)\n",
      "Requirement already satisfied: multidict<7.0,>=4.5 in /venv/main/lib/python3.12/site-packages (from aiohttp<4.0.0,>=3.8.3->langchain_community) (6.6.3)\n",
      "Requirement already satisfied: propcache>=0.2.0 in /venv/main/lib/python3.12/site-packages (from aiohttp<4.0.0,>=3.8.3->langchain_community) (0.3.2)\n",
      "Requirement already satisfied: yarl<2.0,>=1.17.0 in /venv/main/lib/python3.12/site-packages (from aiohttp<4.0.0,>=3.8.3->langchain_community) (1.20.1)\n",
      "Requirement already satisfied: marshmallow<4.0.0,>=3.18.0 in /venv/main/lib/python3.12/site-packages (from dataclasses-json<0.7,>=0.5.7->langchain_community) (3.26.1)\n",
      "Requirement already satisfied: typing-inspect<1,>=0.4.0 in /venv/main/lib/python3.12/site-packages (from dataclasses-json<0.7,>=0.5.7->langchain_community) (0.9.0)\n",
      "Requirement already satisfied: langchain-text-splitters<1.0.0,>=0.3.9 in /venv/main/lib/python3.12/site-packages (from langchain<1.0.0,>=0.3.26->langchain_community) (0.3.9)\n",
      "Requirement already satisfied: pydantic<3.0.0,>=2.7.4 in /venv/main/lib/python3.12/site-packages (from langchain<1.0.0,>=0.3.26->langchain_community) (2.11.7)\n",
      "Requirement already satisfied: jsonpatch<2.0,>=1.33 in /venv/main/lib/python3.12/site-packages (from langchain-core<1.0.0,>=0.3.66->langchain_community) (1.33)\n",
      "Requirement already satisfied: typing-extensions>=4.7 in /venv/main/lib/python3.12/site-packages (from langchain-core<1.0.0,>=0.3.66->langchain_community) (4.14.1)\n",
      "Requirement already satisfied: packaging>=23.2 in /venv/main/lib/python3.12/site-packages (from langchain-core<1.0.0,>=0.3.66->langchain_community) (25.0)\n",
      "Requirement already satisfied: jsonpointer>=1.9 in /venv/main/lib/python3.12/site-packages (from jsonpatch<2.0,>=1.33->langchain-core<1.0.0,>=0.3.66->langchain_community) (3.0.0)\n",
      "Requirement already satisfied: annotated-types>=0.6.0 in /venv/main/lib/python3.12/site-packages (from pydantic<3.0.0,>=2.7.4->langchain<1.0.0,>=0.3.26->langchain_community) (0.7.0)\n",
      "Requirement already satisfied: pydantic-core==2.33.2 in /venv/main/lib/python3.12/site-packages (from pydantic<3.0.0,>=2.7.4->langchain<1.0.0,>=0.3.26->langchain_community) (2.33.2)\n",
      "Requirement already satisfied: typing-inspection>=0.4.0 in /venv/main/lib/python3.12/site-packages (from pydantic<3.0.0,>=2.7.4->langchain<1.0.0,>=0.3.26->langchain_community) (0.4.1)\n",
      "Requirement already satisfied: python-dotenv>=0.21.0 in /venv/main/lib/python3.12/site-packages (from pydantic-settings<3.0.0,>=2.4.0->langchain_community) (1.1.1)\n",
      "Requirement already satisfied: charset_normalizer<4,>=2 in /venv/main/lib/python3.12/site-packages (from requests<3,>=2->langchain_community) (3.4.2)\n",
      "Requirement already satisfied: idna<4,>=2.5 in /venv/main/lib/python3.12/site-packages (from requests<3,>=2->langchain_community) (3.10)\n",
      "Requirement already satisfied: urllib3<3,>=1.21.1 in /venv/main/lib/python3.12/site-packages (from requests<3,>=2->langchain_community) (2.5.0)\n",
      "Requirement already satisfied: certifi>=2017.4.17 in /venv/main/lib/python3.12/site-packages (from requests<3,>=2->langchain_community) (2025.8.3)\n",
      "Requirement already satisfied: greenlet>=1 in /venv/main/lib/python3.12/site-packages (from SQLAlchemy<3,>=1.4->langchain_community) (3.2.4)\n",
      "Requirement already satisfied: mypy-extensions>=0.3.0 in /venv/main/lib/python3.12/site-packages (from typing-inspect<1,>=0.4.0->dataclasses-json<0.7,>=0.5.7->langchain_community) (1.1.0)\n",
      "Collecting soupsieve>1.2 (from beautifulsoup4)\n",
      "  Downloading soupsieve-2.7-py3-none-any.whl.metadata (4.6 kB)\n",
      "Requirement already satisfied: httpx<1,>=0.23.0 in /venv/main/lib/python3.12/site-packages (from langsmith>=0.1.125->langchain_community) (0.28.1)\n",
      "Requirement already satisfied: orjson>=3.9.14 in /venv/main/lib/python3.12/site-packages (from langsmith>=0.1.125->langchain_community) (3.11.1)\n",
      "Requirement already satisfied: requests-toolbelt>=1.0.0 in /venv/main/lib/python3.12/site-packages (from langsmith>=0.1.125->langchain_community) (1.0.0)\n",
      "Requirement already satisfied: zstandard>=0.23.0 in /venv/main/lib/python3.12/site-packages (from langsmith>=0.1.125->langchain_community) (0.23.0)\n",
      "Requirement already satisfied: anyio in /venv/main/lib/python3.12/site-packages (from httpx<1,>=0.23.0->langsmith>=0.1.125->langchain_community) (4.10.0)\n",
      "Requirement already satisfied: httpcore==1.* in /venv/main/lib/python3.12/site-packages (from httpx<1,>=0.23.0->langsmith>=0.1.125->langchain_community) (1.0.9)\n",
      "Requirement already satisfied: h11>=0.16 in /venv/main/lib/python3.12/site-packages (from httpcore==1.*->httpx<1,>=0.23.0->langsmith>=0.1.125->langchain_community) (0.16.0)\n",
      "Requirement already satisfied: sniffio>=1.1 in /venv/main/lib/python3.12/site-packages (from anyio->httpx<1,>=0.23.0->langsmith>=0.1.125->langchain_community) (1.3.1)\n",
      "Downloading beautifulsoup4-4.13.4-py3-none-any.whl (187 kB)\n",
      "Downloading soupsieve-2.7-py3-none-any.whl (36 kB)\n",
      "Installing collected packages: soupsieve, beautifulsoup4\n",
      "\u001b[2K   \u001b[90m━━━━━━━━━━━━━━━━━━━━━━━━━━━━━━━━━━━━━━━━\u001b[0m \u001b[32m2/2\u001b[0m [beautifulsoup4]\n",
      "\u001b[1A\u001b[2KSuccessfully installed beautifulsoup4-4.13.4 soupsieve-2.7\n",
      "\u001b[33mWARNING: Running pip as the 'root' user can result in broken permissions and conflicting behaviour with the system package manager, possibly rendering your system unusable. It is recommended to use a virtual environment instead: https://pip.pypa.io/warnings/venv. Use the --root-user-action option if you know what you are doing and want to suppress this warning.\u001b[0m\u001b[33m\n",
      "\u001b[0mNote: you may need to restart the kernel to use updated packages.\n"
     ]
    }
   ],
   "source": [
    "%pip install langchain_community beautifulsoup4\n"
   ]
  },
  {
   "cell_type": "code",
   "execution_count": 4,
   "id": "937702e9",
   "metadata": {},
   "outputs": [
    {
     "name": "stdout",
     "output_type": "stream",
     "text": [
      "=======첫번째 페이지 상세 정보=======\n",
      "Source : https://m.sports.naver.com/wfootball/article/450/0000138646\n",
      "인터 마이애미 리오넬 메시, LAFC 손흥민. /사진=게티이미지코리아[STN뉴스] 반진혁 기자 | 손흥민의 영입 효과를 제대로 누리고 있는 LAFC다.손흥민은 토트넘 홋스퍼 10년 생활을 정리한 후 새로운 도전에 나섰고 LAFC와 동행을 약속했다.LAFC는 지난 7일 손흥민 영입을 발표했다. 계약 기간은 2027년까지이며, 2028, 2029년 6월까지 추가 옵션이 있다.LAFC는 지난 10일 미국 시카고에 위치한 시트긱 스타디움에서 치러진 시카고 파이어와의 2025시즌 MLS 정규리그 25라운드 경기에서 2-2 무승부를 거뒀다.손\n"
     ]
    }
   ],
   "source": [
    "from langchain_community.document_loaders import PyPDFLoader\n",
    "from langchain_community.document_loaders import WebBaseLoader\n",
    "from bs4 import SoupStrainer\n",
    "\n",
    "\n",
    "url = \"https://m.sports.naver.com/wfootball/article/450/0000138646\"\n",
    "\n",
    "parse_filter = SoupStrainer(\"div\", class_=\"ArticleContent_comp_article_content__luOFM\")\n",
    "\n",
    "loader = WebBaseLoader(\n",
    "    web_path=url,\n",
    "    bs_kwargs={\"parse_only\" : parse_filter}\n",
    ")\n",
    "\n",
    "documents = loader.load()\n",
    "\n",
    "if documents : \n",
    "    first_page = documents[0]\n",
    "    print(\"=======첫번째 페이지 상세 정보=======\")\n",
    "    print(f\"Source : {first_page.metadata['source']}\")\n",
    "    print(first_page.page_content[:300])"
   ]
  },
  {
   "cell_type": "code",
   "execution_count": 5,
   "id": "8525b0da",
   "metadata": {},
   "outputs": [
    {
     "name": "stdout",
     "output_type": "stream",
     "text": [
      "분할 전 Document 수 : 1\n",
      "분할 후 Document 수 : 6\n",
      "\n",
      " ----- 분할 된 첫 청크 -------- \n",
      "인터 마이애미 리오넬 메시, LAFC 손흥민. /사진=게티이미지코리아[STN뉴스] 반진혁 기자 | 손흥민의 영입 효과를 제대로 누리고 있는 LAFC다.손흥민은 토트넘 홋스퍼 10년 생활을 정리한 후 새로운 도전에 나섰고 LAFC와 동행을 약속했다.LAFC는 지난 7일 손흥민 영입을 발표했다. 계약 기간은 2027년까지이며, 2028, 2029년 6월까지 추가 옵션이 있다.LAFC는 지난 10일 미국 시카고에 위치한 시트긱 스타디움에서 치러진 시카고 파이어와의 2025시즌 MLS 정규리그 25라운드 경기에서 2-2 무승부를 거뒀다.손흥민의 존재감은 번뜩였다. 최전방 공격수로 뛰면서 후반 31분 후방에서 연결된 패스를 받은 후 폭풍 질주를 선보였고 페널티 킥을 얻어냈다. 이는 득점으로 연결됐고 LAFC는 패배를 모면했다.LAFC 손흥민. /사진=게티이미지코리아손흥민의 영입 열기가 뜨겁다.미국 메이저리그 사커(MLS) 전담 기자인 파비안 렌켈은 자신의 개인 채널을 통해 손흥민에 대해 언급했다.렌켈은\n"
     ]
    }
   ],
   "source": [
    "from langchain_text_splitters import RecursiveCharacterTextSplitter\n",
    "\n",
    "text_splitter = RecursiveCharacterTextSplitter(\n",
    "    chunk_size = 512,\n",
    "    chunk_overlap = 52,\n",
    "    separators = [\"\\n\\n\", \"\\n\", \" \", \"\"],\n",
    "    length_function = len\n",
    ")\n",
    "\n",
    "split_docs = text_splitter.split_documents(documents)\n",
    "\n",
    "print(f\"분할 전 Document 수 : {len(documents)}\")\n",
    "print(f\"분할 후 Document 수 : {len(split_docs)}\")\n",
    "\n",
    "if split_docs : \n",
    "    print(\"\\n ----- 분할 된 첫 청크 -------- \")\n",
    "    print(split_docs[0].page_content)"
   ]
  },
  {
   "cell_type": "code",
   "execution_count": 6,
   "id": "f4c56a7c",
   "metadata": {},
   "outputs": [
    {
     "name": "stdout",
     "output_type": "stream",
     "text": [
      "\n",
      "🦂 벡터 DB 생성 및 저장 완료 !\n",
      "jhgan/ko-sbert-nli 모델을 사용하여 6개의 청크를 생성했습니다.\n"
     ]
    }
   ],
   "source": [
    "from langchain_community.vectorstores import FAISS\n",
    "from langchain_huggingface import HuggingFaceEmbeddings\n",
    "\n",
    "embedding_model = HuggingFaceEmbeddings(model_name=\"jhgan/ko-sbert-nli\")\n",
    "\n",
    "vector_db = FAISS.from_documents(split_docs, embedding_model)\n",
    "vector_db.save_local(\"example_math_index\")\n",
    "\n",
    "print(\"\\n🦂 벡터 DB 생성 및 저장 완료 !\")\n",
    "print(f\"{embedding_model.model_name} 모델을 사용하여 {len(split_docs)}개의 청크를 생성했습니다.\")"
   ]
  },
  {
   "cell_type": "code",
   "execution_count": 7,
   "id": "ac38bb40",
   "metadata": {},
   "outputs": [],
   "source": [
    "from langchain_openai import ChatOpenAI\n",
    "from langchain_core.prompts import ChatPromptTemplate\n",
    "from langchain_core.runnables import RunnablePassthrough\n",
    "from langchain_core.output_parsers import StrOutputParser\n",
    "import os "
   ]
  },
  {
   "cell_type": "code",
   "execution_count": null,
   "id": "f1134dc9",
   "metadata": {},
   "outputs": [
    {
     "name": "stdout",
     "output_type": "stream",
     "text": [
      "임베딩 모델과 로컬 벡터 DB를 로딩합니다\n"
     ]
    },
    {
     "name": "stdout",
     "output_type": "stream",
     "text": [
      "로딩 완료\n",
      "\n",
      " RAG 파이프라인을 통해서 질문에 대한 답변을 생성합니다....\n",
      "___최종 답변 _____\n",
      "문서에 따르면 손흥민 선수는 현재 LAFC 소속입니다.\n"
     ]
    }
   ],
   "source": [
    "os.environ['OPENAI_API_KEY'] = \"sk-\"\n",
    "\n",
    "DB_PATH = \"example_math_index\"\n",
    "EMBEDDING_MODEL_NAME = \"jhgan/ko-sbert-nli\"\n",
    "print(\"임베딩 모델과 로컬 벡터 DB를 로딩합니다\")\n",
    "embedding_model = HuggingFaceEmbeddings(model_name=EMBEDDING_MODEL_NAME)\n",
    "vector_db = FAISS.load_local(\n",
    "    DB_PATH,\n",
    "    embedding_model,\n",
    "    allow_dangerous_deserialization=True\n",
    ")\n",
    "print(\"로딩 완료\")\n",
    "\n",
    "retriver = vector_db.as_retriever()\n",
    "llm = ChatOpenAI(model='gpt-4o', temperature=0.2)\n",
    "\n",
    "prompt_template = \"\"\"\n",
    "### 지시 :\n",
    "당신은 주어진 문서의 내용을 바탕으로 질문에 답변하는 AI 어시스턴트입니다.\n",
    "문서에 내용이 없는 경우, '문서에 관련된 내용이 없습니다' 라고 답변하세요, 추측성 답변을 하지 말아주세요.\n",
    "\n",
    "### 참고 문서 : \n",
    "{context}\n",
    "\n",
    "### 질문 : \n",
    "{question}\n",
    "\n",
    "### 답변 : \n",
    "\n",
    "\"\"\"\n",
    "\n",
    "\n",
    "prompt = ChatPromptTemplate.from_template(prompt_template)\n",
    "\n",
    "def format_docs(docs):\n",
    "    return \"\\n\\n\".join(doc.page_content for doc in docs)\n",
    "\n",
    "\n",
    "rag_chain = (\n",
    "    {\"context\" : retriver | format_docs, \"question\" : RunnablePassthrough()}\n",
    "    | prompt\n",
    "    | llm\n",
    "    | StrOutputParser()\n",
    ")\n",
    "\n",
    "\n",
    "if __name__ == '__main__':\n",
    "    print(\"\\n RAG 파이프라인을 통해서 질문에 대한 답변을 생성합니다....\")\n",
    "\n",
    "    my_question = \"손흥민 선수는 어느 팀 소속이야?\"\n",
    "\n",
    "    response = rag_chain.invoke(my_question)\n",
    "\n",
    "    print(\"___최종 답변 _____\")\n",
    "    print(response)"
   ]
  },
  {
   "cell_type": "markdown",
   "id": "e9431416",
   "metadata": {},
   "source": [
    "### 위의 예시 처럼 gpt-4o의 경우 2023년 정보까지만 가지고 있습니다. 하지만 RAG를 통해서 최신 정보를 제공해주면 학습하지 않은 정보에 대해서도 정확하게 대답해줄 수 있습니다."
   ]
  },
  {
   "cell_type": "code",
   "execution_count": null,
   "id": "55117b2d",
   "metadata": {},
   "outputs": [],
   "source": []
  }
 ],
 "metadata": {
  "kernelspec": {
   "display_name": "Python 3",
   "language": "python",
   "name": "python3"
  },
  "language_info": {
   "codemirror_mode": {
    "name": "ipython",
    "version": 3
   },
   "file_extension": ".py",
   "mimetype": "text/x-python",
   "name": "python",
   "nbconvert_exporter": "python",
   "pygments_lexer": "ipython3",
   "version": "3.12.11"
  }
 },
 "nbformat": 4,
 "nbformat_minor": 5
}
